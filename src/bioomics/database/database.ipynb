{
 "cells": [
  {
   "cell_type": "code",
   "execution_count": null,
   "id": "4bc27db4-6699-4e9b-a103-6ec4f8724ac0",
   "metadata": {},
   "outputs": [],
   "source": []
  },
  {
   "cell_type": "code",
   "execution_count": 32,
   "id": "208fcb82-95f2-46d4-8246-9dff8db1a1c0",
   "metadata": {},
   "outputs": [
    {
     "name": "stdout",
     "output_type": "stream",
     "text": [
      "<mysql.connector.connection_cext.CMySQLConnection object at 0x77c300984e90>\n"
     ]
    }
   ],
   "source": [
    "import mysql.connector\n",
    "  \n",
    "db_conn = mysql.connector.connect(\n",
    "  host =\"localhost\",\n",
    "  user =\"root\",\n",
    "  passwd =\"root\"\n",
    ")\n",
    "\n",
    "print(db_conn)\n",
    "\n",
    "# preparing a cursor object\n",
    "cursor = db_conn.cursor()\n",
    "\n",
    "# Disconnecting from the server\n",
    "db_conn.close()"
   ]
  },
  {
   "cell_type": "markdown",
   "id": "28a7a21b-c501-4057-a784-e09def3618d9",
   "metadata": {},
   "source": [
    "## database"
   ]
  },
  {
   "cell_type": "code",
   "execution_count": 39,
   "id": "e3a6ae09-eed8-41ed-b6ff-09e2f1a031fa",
   "metadata": {},
   "outputs": [
    {
     "name": "stdout",
     "output_type": "stream",
     "text": [
      "['gfg', 'information_schema', 'mysql', 'performance_schema', 'sys']\n"
     ]
    }
   ],
   "source": [
    "# show datases\n",
    "def get_db_names(db_params):\n",
    "    conn = mysql.connector.connect(**db_params)\n",
    "    cursor = conn.cursor()\n",
    "    cursor.execute(\"SHOW DATABASES\")\n",
    "    db_names = [i[0] for i in cursor]\n",
    "    conn.close()\n",
    "    return db_names\n",
    "    \n",
    "default_params = {\n",
    "    'host': \"localhost\",\n",
    "    'user': \"root\",\n",
    "    'passwd': \"root\",\n",
    "}\n",
    "db_names = get_db_names(default_params)\n",
    "print(db_names)"
   ]
  },
  {
   "cell_type": "code",
   "execution_count": 81,
   "id": "c13df000-0daf-49e6-b915-242096879088",
   "metadata": {},
   "outputs": [
    {
     "name": "stdout",
     "output_type": "stream",
     "text": [
      "False False\n"
     ]
    }
   ],
   "source": [
    "# create database\n",
    "def create_db(db_params:dict, db_name:str):\n",
    "    conn = mysql.connector.connect(**db_params)\n",
    "    cursor = conn.cursor()\n",
    "    # \n",
    "    tag = False\n",
    "    cursor.execute(\"SHOW DATABASES\")\n",
    "    names = [i[0] for i in cursor]\n",
    "    if db_name not in names:\n",
    "        cursor.execute(f\"CREATE DATABASE {db_name}\")\n",
    "        tag = True\n",
    "    conn.close()\n",
    "    return tag\n",
    "\n",
    "default_params = {\n",
    "    'host': \"localhost\",\n",
    "    'user': \"root\",\n",
    "    'passwd': \"root\",\n",
    "}\n",
    "res1 = create_db(db_params, 'protein')\n",
    "res2 = create_db(db_params, 'DNA')\n",
    "print(res1, res2)"
   ]
  },
  {
   "cell_type": "code",
   "execution_count": 77,
   "id": "66ae0b40-4f51-4725-a0fa-c31dc846d241",
   "metadata": {},
   "outputs": [
    {
     "name": "stdout",
     "output_type": "stream",
     "text": [
      "False False\n"
     ]
    }
   ],
   "source": [
    "# drop database\n",
    "def drop_db(db_params:dict, db_name:str):\n",
    "    conn = mysql.connector.connect(**db_params)\n",
    "    cursor = conn.cursor()\n",
    "    # \n",
    "    tag = False\n",
    "    cursor.execute(\"SHOW DATABASES\")\n",
    "    names = [i[0] for i in cursor]\n",
    "    if db_name in names:\n",
    "        cursor.execute(f\"DROP DATABASE {db_name}\")\n",
    "        tag = True\n",
    "    conn.close()\n",
    "    return tag\n",
    "\n",
    "default_params = {\n",
    "    'host': \"localhost\",\n",
    "    'user': \"root\",\n",
    "    'passwd': \"root\",\n",
    "}\n",
    "res1 = drop_db(db_params, 'protein')\n",
    "res2 = drop_db(db_params, 'DNA')\n",
    "print(res1, res2)"
   ]
  },
  {
   "cell_type": "code",
   "execution_count": null,
   "id": "c8449e26-30db-4e94-b5ce-0c6f44c0b7d2",
   "metadata": {},
   "outputs": [],
   "source": []
  },
  {
   "cell_type": "code",
   "execution_count": null,
   "id": "4a8b0c15-4509-4d6d-8566-49068ed94e25",
   "metadata": {},
   "outputs": [],
   "source": []
  },
  {
   "cell_type": "code",
   "execution_count": null,
   "id": "3398b9d3-b708-4250-ae90-7af7da5ee716",
   "metadata": {},
   "outputs": [],
   "source": []
  },
  {
   "cell_type": "code",
   "execution_count": null,
   "id": "41cd1ef0-e17e-424a-be95-6799117a7bdd",
   "metadata": {},
   "outputs": [],
   "source": []
  },
  {
   "cell_type": "code",
   "execution_count": null,
   "id": "3ec35a29-d304-42e1-92f4-2edb70eee030",
   "metadata": {},
   "outputs": [],
   "source": [
    "# Disconnecting from the server\n",
    "dataBase.close()\n"
   ]
  }
 ],
 "metadata": {
  "kernelspec": {
   "display_name": "Python 3 (ipykernel)",
   "language": "python",
   "name": "python3"
  },
  "language_info": {
   "codemirror_mode": {
    "name": "ipython",
    "version": 3
   },
   "file_extension": ".py",
   "mimetype": "text/x-python",
   "name": "python",
   "nbconvert_exporter": "python",
   "pygments_lexer": "ipython3",
   "version": "3.11.9"
  }
 },
 "nbformat": 4,
 "nbformat_minor": 5
}
