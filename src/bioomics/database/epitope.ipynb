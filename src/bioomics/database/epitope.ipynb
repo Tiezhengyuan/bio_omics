{
 "cells": [
  {
   "cell_type": "code",
   "execution_count": 3,
   "id": "f416bb6c-28ad-4527-9fc4-45efe20f5779",
   "metadata": {},
   "outputs": [],
   "source": [
    "import pandas as pd\n",
    "import json\n",
    "import gzip\n",
    "from zipfile import ZipFile\n",
    "import mysql.connector\n",
    "import os"
   ]
  },
  {
   "cell_type": "code",
   "execution_count": null,
   "id": "ffa69d18-6fa1-4e8b-bef7-76a129d39a7d",
   "metadata": {},
   "outputs": [],
   "source": []
  },
  {
   "cell_type": "code",
   "execution_count": null,
   "id": "11e8de0b-503a-4a2a-9fb7-2f6d8198f9c0",
   "metadata": {},
   "outputs": [],
   "source": []
  },
  {
   "cell_type": "code",
   "execution_count": null,
   "id": "8df70ad5-bf22-4eac-81eb-0c340fe41f43",
   "metadata": {},
   "outputs": [],
   "source": [
    "#  mol1 and mol2: 139 rows\n",
    "SELECT a.curated_epitope_id, b.object_id, b.starting_position, b.ending_position, b.mol1_seq, \n",
    "    b.mol1_source_id, b.mol2_source_id\n",
    "FROM curated_epitope a, object b\n",
    "WHERE a.e_object_id = b.object_id AND b.starting_position is NOT NULL \n",
    "    AND b.mol1_source_id is NOT NULL and b.mol2_source_id is NOT NULL\n",
    "limit 10;"
   ]
  },
  {
   "cell_type": "code",
   "execution_count": 294,
   "id": "8692e93b-0ee5-4ec0-a856-b3a2c782accd",
   "metadata": {},
   "outputs": [],
   "source": [
    "# mol1: 139 \n",
    "SELECT a.curated_epitope_id, b.object_id, b.starting_position, b.ending_position,\n",
    "    b.mol1_seq, b.mol1_source_id\n",
    "FROM curated_epitope a, object b\n",
    "WHERE a.e_object_id = b.object_id AND b.starting_position is NOT NULL \n",
    "    AND b.mol1_source_id is NOT NULL;\n",
    "\n",
    "# mol2: 3553565\n",
    "SELECT a.curated_epitope_id, b.object_id, b.starting_position, b.ending_position,\n",
    "    b.mol1_seq, b.mol1_source_id, b.mol2_modified_seq, b.mol2_source_id\n",
    "FROM curated_epitope a, object b\n",
    "WHERE a.e_object_id = b.object_id\n",
    "    AND b.starting_position is NOT NULL \n",
    "    AND b.mol2_source_id is NOT NULL\n",
    "LIMIT 10;"
   ]
  },
  {
   "cell_type": "code",
   "execution_count": null,
   "id": "44e1740c-32cb-4105-b642-ed4ee59203ef",
   "metadata": {},
   "outputs": [],
   "source": [
    "# show\n",
    "SELECT a.curated_epitope_id, a.e_name, e_region_domain_flag,\n",
    "    b.object_id, b.starting_position, b.ending_position, b.mol1_seq,\n",
    "    c.accession, c.database, c.name, c.sequence\n",
    "FROM curated_epitope a, object b, source c\n",
    "WHERE a.e_object_id = b.object_id\n",
    "    AND b.mol2_source_id = c.source_id\n",
    "    AND b.starting_position is NOT NULL\n",
    "    AND c.sequence is NOT NULL\n",
    "LIMIT 10;\n",
    "\n",
    "# count rows\n",
    "SELECT COUNT(DISTINCT a.curated_epitope_id)\n",
    "FROM curated_epitope a, object b, source c\n",
    "WHERE a.e_object_id = b.object_id\n",
    "    AND b.mol2_source_id = c.source_id\n",
    "    AND b.starting_position is NOT NULL;\n",
    "\n",
    "# counts antigens with epitopes\n",
    "SELECT COUNT(DISTINCT c.accession)\n",
    "FROM curated_epitope a, object b, source c\n",
    "WHERE a.e_object_id = b.object_id\n",
    "    AND b.mol2_source_id = c.source_id\n",
    "    AND b.starting_position is NOT NULL;"
   ]
  },
  {
   "cell_type": "code",
   "execution_count": 26,
   "id": "74f08def-123f-431e-bb5b-7e2f907ca8b3",
   "metadata": {},
   "outputs": [],
   "source": [
    "db_params = {\n",
    "    'host': \"localhost\",\n",
    "    'user': \"root\",\n",
    "    'passwd': \"root\",\n",
    "    'database': 'protein',\n",
    "}\n",
    "conn = mysql.connector.connect(**db_params)\n",
    "\n",
    "cursor = conn.cursor()\n",
    "cursor.execute(\"\"\"\n",
    "        SELECT a.curated_epitope_id,\n",
    "            b.starting_position, b.ending_position, b.mol1_seq,\n",
    "            c.accession\n",
    "        FROM curated_epitope a, object b, source c\n",
    "        WHERE a.e_object_id = b.object_id\n",
    "            AND b.mol2_source_id = c.source_id\n",
    "            AND b.starting_position is NOT NULL\n",
    "\"\"\")"
   ]
  },
  {
   "cell_type": "code",
   "execution_count": null,
   "id": "bcc0b7cb-292a-41a7-a2b4-61fcf1ea0e72",
   "metadata": {},
   "outputs": [],
   "source": [
    "epitopes = {}\n",
    "keys = ['epitope_id', 'start', 'end', 'seq', 'acc']\n",
    "for row in cursor:\n",
    "    row = [i if isinstance(i, str) else int(i) for i in row]\n",
    "    acc = row[-1]\n",
    "    if acc not in epitopes:\n",
    "        epitopes[acc] = []\n",
    "    epitopes[acc].append(row[:-1])\n",
    "print(len(epitopes))    "
   ]
  },
  {
   "cell_type": "code",
   "execution_count": 20,
   "id": "3642703a-ee1e-4f95-8071-858d3243f59e",
   "metadata": {},
   "outputs": [
    {
     "data": {
      "text/plain": [
       "[1507426,\n",
       " '448',\n",
       " 'Exact Epitope',\n",
       " 1294668,\n",
       " 157,\n",
       " 171,\n",
       " 'ASGLVALLLNSLVVI',\n",
       " 'YP_001135796.1',\n",
       " 'GenPept',\n",
       " 'hypothetical protein',\n",
       " 'MVNKAADRWSTGLPGLRSGMSTPMQGIGGLLSMSADAVKFLFRRPFQTSEFLLQSWFVARVSLAPTLLVAIPFTVLVSFTLNILLSELGAADLSGAGAAFGAVTQVGPMVTVLIVAGAGATAMCADLGSRTIREEIDALEVLGINPVQRLVTPRMLASGLVALLLNSLVVIIGIVGGYVFSIFVQGVNPGAFAAGITLLTGVPEVIISCVKAALFGLIAGLVACYRGLSISTGGAKAVGNAVNETVVYAFMALFVVNVVVTAIGIQMTSG']"
      ]
     },
     "execution_count": 20,
     "metadata": {},
     "output_type": "execute_result"
    }
   ],
   "source": [
    "import re\n"
   ]
  },
  {
   "cell_type": "code",
   "execution_count": 19,
   "id": "75c44124-4fbf-4234-8eae-4acd4574bf22",
   "metadata": {},
   "outputs": [
    {
     "data": {
      "text/plain": [
       "str"
      ]
     },
     "execution_count": 19,
     "metadata": {},
     "output_type": "execute_result"
    }
   ],
   "source": [
    "type(row[1])"
   ]
  },
  {
   "cell_type": "code",
   "execution_count": null,
   "id": "7f39c9e4-aa20-4033-803c-5c5b7fec0281",
   "metadata": {},
   "outputs": [],
   "source": []
  },
  {
   "cell_type": "code",
   "execution_count": null,
   "id": "9bd7ad8c-0907-4fc3-990e-301c03bd8574",
   "metadata": {},
   "outputs": [],
   "source": []
  },
  {
   "cell_type": "code",
   "execution_count": null,
   "id": "d039f437-6ac2-4382-a505-423147a2f20c",
   "metadata": {},
   "outputs": [],
   "source": []
  },
  {
   "cell_type": "code",
   "execution_count": null,
   "id": "575ebfeb-e81b-4d4e-80e8-9ec0dd555dbb",
   "metadata": {},
   "outputs": [],
   "source": []
  },
  {
   "cell_type": "code",
   "execution_count": null,
   "id": "82ab0bd0-a9f4-4310-b3aa-b9d25f02f34b",
   "metadata": {},
   "outputs": [],
   "source": []
  },
  {
   "cell_type": "code",
   "execution_count": null,
   "id": "b7589919-50da-4067-8afc-01a310ab9eeb",
   "metadata": {},
   "outputs": [],
   "source": []
  },
  {
   "cell_type": "code",
   "execution_count": 28,
   "id": "09a59e6c-b874-4ee1-9d44-3fe7ff8ef186",
   "metadata": {},
   "outputs": [],
   "source": [
    "def read_json(local_file:str) -> list:\n",
    "    # read json\n",
    "    data_list = []\n",
    "    with ZipFile(local_file) as zf:\n",
    "        for file in zf.namelist():\n",
    "            with zf.open(file) as f:\n",
    "                data = json.load(f)\n",
    "                data_list += data['Data']\n",
    "    return data_list\n",
    "\n",
    "infile = '/home/yuan/data/IEDB/epitope_full_v3_json.zip'\n",
    "data = read_json(infile)"
   ]
  },
  {
   "cell_type": "code",
   "execution_count": 175,
   "id": "00885dc9-eb02-486b-904b-9a1edca8cfea",
   "metadata": {},
   "outputs": [
    {
     "name": "stdout",
     "output_type": "stream",
     "text": [
      "Epitope ID - IEDB IRI                   \t:http://www.iedb.org/epitope/1\n",
      "Epitope - Object Type                   \t:Linear peptide\n",
      "Epitope - Name                          \t:AA + MCM(A1,A2)\n",
      "Epitope - Modified Residue(s)           \t:A1,A2\n",
      "Epitope - Modifications                 \t:Main chain modification\n",
      "Epitope - Starting Position             \t:200\n",
      "Epitope - Ending Position               \t:201\n",
      "Epitope - IRI                           \t:\n",
      "Epitope - Synonyms                      \t:\n",
      "Epitope - Source Molecule               \t:streptokinase, SKase\n",
      "Epitope - Source Molecule IRI           \t:http://www.ncbi.nlm.nih.gov/protein/AAB20743.1\n",
      "Epitope - Molecule Parent               \t:Streptokinase A\n",
      "Epitope - Molecule Parent IRI           \t:http://www.uniprot.org/uniprot/P10520\n",
      "Epitope - Source Organism               \t:Streptococcus pyogenes serotype M3 D58\n",
      "Epitope - Source Organism IRI           \t:https://ontology.iedb.org/ontology/ONTIE_0000450\n",
      "Epitope - Species                       \t:Streptococcus pyogenes\n",
      "Epitope - Species IRI                   \t:http://purl.obolibrary.org/obo/NCBITaxon_1314\n",
      "Related Object - Epitope Relation       \t:\n",
      "Related Object - Object Type            \t:\n",
      "Related Object - Name                   \t:\n",
      "Related Object - Starting Position      \t:\n",
      "Related Object - Ending Position        \t:\n",
      "Related Object - IRI                    \t:\n",
      "Related Object - Synonyms               \t:\n",
      "Related Object - Source Molecule        \t:\n",
      "Related Object - Source Molecule IRI    \t:\n",
      "Related Object - Molecule Parent        \t:\n",
      "Related Object - Molecule Parent IRI    \t:\n",
      "Related Object - Source Organism        \t:\n",
      "Related Object - Source Organism IRI    \t:\n",
      "Related Object - Species                \t:\n",
      "Related Object - Species IRI            \t:\n"
     ]
    }
   ],
   "source": [
    "for k, v in data[0].items():\n",
    "    print(f\"{k:40}\\t:{v}\")"
   ]
  },
  {
   "cell_type": "code",
   "execution_count": 54,
   "id": "7cceac7f-8b31-491f-9207-25172b5a0162",
   "metadata": {},
   "outputs": [
    {
     "name": "stdout",
     "output_type": "stream",
     "text": [
      "True\n"
     ]
    }
   ],
   "source": [
    "# drop table\n",
    "def drop_table(db_params:str, table_name:str):\n",
    "    conn = mysql.connector.connect(**db_params)\n",
    "    cursor = conn.cursor()\n",
    "    tag = True\n",
    "    try:\n",
    "        cursor.execute(f\"DROP TABLE {table_name}\")\n",
    "    except Exception as e:\n",
    "        print(e)\n",
    "        tag = False\n",
    "    finally:\n",
    "        conn.close()\n",
    "    return tag\n",
    "    \n",
    "db_params = {\n",
    "    'host': \"localhost\",\n",
    "    'user': \"root\",\n",
    "    'passwd': \"root\",\n",
    "    'database': 'protein',\n",
    "}\n",
    "table_name = 'epitope'\n",
    "res = drop_table(db_params, table_name)\n",
    "print(res)"
   ]
  },
  {
   "cell_type": "code",
   "execution_count": 180,
   "id": "00747cad-77aa-487a-b061-1198a8e8a5cf",
   "metadata": {},
   "outputs": [
    {
     "name": "stdout",
     "output_type": "stream",
     "text": [
      "Epitope ID - IEDB IRI:35\n",
      "Epitope - Object Type:36\n",
      "Epitope - Name      :829\n",
      "Epitope - Modified Residue(s):111\n",
      "Epitope - Modifications:50\n",
      "Epitope - Starting Position:5\n",
      "Epitope - Ending Position:5\n",
      "Epitope - IRI       :43\n",
      "Epitope - Synonyms  :4579\n",
      "Epitope - Source Molecule:433\n",
      "Epitope - Source Molecule IRI:51\n",
      "Epitope - Molecule Parent:188\n",
      "Epitope - Molecule Parent IRI:43\n",
      "Epitope - Source Organism:95\n",
      "Epitope - Source Organism IRI:48\n",
      "Epitope - Species   :53\n",
      "Epitope - Species IRI:48\n",
      "Related Object - Epitope Relation:23\n",
      "Related Object - Object Type:43\n",
      "Related Object - Name:1532\n",
      "Related Object - Starting Position:5\n",
      "Related Object - Ending Position:5\n",
      "Related Object - IRI:43\n",
      "Related Object - Synonyms:1590\n",
      "Related Object - Source Molecule:286\n",
      "Related Object - Source Molecule IRI:51\n",
      "Related Object - Molecule Parent:144\n",
      "Related Object - Molecule Parent IRI:41\n",
      "Related Object - Source Organism:124\n",
      "Related Object - Source Organism IRI:48\n",
      "Related Object - Species:52\n",
      "Related Object - Species IRI:48\n"
     ]
    }
   ],
   "source": [
    "# estimate length\n",
    "max_len = {k:0 for k in data[0]}\n",
    "for el in data:\n",
    "    for k, v in el.items():\n",
    "        if len(v)> max_len[k]:\n",
    "            max_len[k] = len(v)\n",
    "for k, v in max_len.items():\n",
    "    print(f\"{k:20}:{v}\")"
   ]
  },
  {
   "cell_type": "code",
   "execution_count": 181,
   "id": "9f8258d9-4935-4bbe-8c91-4579466c5157",
   "metadata": {},
   "outputs": [],
   "source": [
    "columns = [\n",
    "        'Epitope_ID VARCHAR(100) PRIMARY KEY',\n",
    "        'Epitope_IRI VARCHAR(200)',\n",
    "        'Object_Type VARCHAR(50)',\n",
    "        'Name VARCHAR(1000)',\n",
    "        'Modified_Residue VARCHAR(150)',\n",
    "        'Modifications VARCHAR(100)',\n",
    "        'Starting_Position INT',\n",
    "        'Ending_Position INT',\n",
    "        'IRI VARCHAR(50)',\n",
    "        'Synonyms VARCHAR(5000)',\n",
    "        'Source_Molecule VARCHAR(500)',\n",
    "        'Source_Molecule_IRI VARCHAR(100)',\n",
    "        'Molecule_Parent VARCHAR(200)',\n",
    "        'Molecule_Parent_IRI VARCHAR(100)',\n",
    "        'Source_Organism VARCHAR(200)',\n",
    "        'Source_Organism_IRI VARCHAR(200)',\n",
    "        'Species VARCHAR(100)',\n",
    "        'Species_IRI VARCHAR(100)',\n",
    "]"
   ]
  },
  {
   "cell_type": "code",
   "execution_count": 185,
   "id": "917a3929-7f45-4aa7-9fe2-982de76e373e",
   "metadata": {},
   "outputs": [
    {
     "name": "stdout",
     "output_type": "stream",
     "text": [
      "True\n"
     ]
    }
   ],
   "source": [
    "# create table\n",
    "def create_table(db_params:str, sql_query:str):\n",
    "    conn = mysql.connector.connect(**db_params)\n",
    "    cursor = conn.cursor()\n",
    "    tag = True\n",
    "    try:\n",
    "        cursor.execute(sql_query)\n",
    "    except Exception as e:\n",
    "        print(e)\n",
    "        tag = False\n",
    "    finally:\n",
    "        conn.close()\n",
    "    return tag\n",
    "    \n",
    "db_params = {\n",
    "    'host': \"localhost\",\n",
    "    'user': \"root\",\n",
    "    'passwd': \"root\",\n",
    "    'database': 'protein',\n",
    "}\n",
    "table_name = 'epitope'\n",
    "\n",
    "sql_query = f\"CREATE TABLE {table_name} ({','.join(columns)})\"\n",
    "res = create_table(db_params, sql_query)\n",
    "print(res)"
   ]
  },
  {
   "cell_type": "code",
   "execution_count": 210,
   "id": "a7280a24-f579-4027-b14a-e9b0c656b4aa",
   "metadata": {},
   "outputs": [
    {
     "name": "stdout",
     "output_type": "stream",
     "text": [
      "2236826 ['1', 'http://www.iedb.org/epitope/1', 'Linear peptide', 'AA + MCM(A1,A2)', 'A1,A2', 'Main chain modification', '200', '201', '', '', 'streptokinase, SKase', 'http://www.ncbi.nlm.nih.gov/protein/AAB20743.1', 'Streptokinase A', 'http://www.uniprot.org/uniprot/P10520', 'Streptococcus pyogenes serotype M3 D58', 'https://ontology.iedb.org/ontology/ONTIE_0000450', 'Streptococcus pyogenes', 'http://purl.obolibrary.org/obo/NCBITaxon_1314']\n"
     ]
    }
   ],
   "source": [
    "rows = []\n",
    "for el in data:\n",
    "    item = list(el.values())[:17]\n",
    "    # item = [i if i else None for i in item]\n",
    "    id = os.path.basename(item[0])\n",
    "    item.insert(0, id)\n",
    "    rows.append(item)\n",
    "print(len(rows), rows[0])"
   ]
  },
  {
   "cell_type": "code",
   "execution_count": 279,
   "id": "ba062ce8-f6cf-44ab-b9d1-a1c5f442fab9",
   "metadata": {},
   "outputs": [
    {
     "name": "stdout",
     "output_type": "stream",
     "text": [
      "error: Could not process parameters: str(\"1\", \"http://www.iedb.org/epitope/1\", \"Linear peptide\", \"AA + MCM(A1,A2)\", \"A1,A2\", \"Main chain modification\", 200, 201, \"\", \"\", \"streptokinase, SKase\", \"http://www.ncbi.nlm.nih.gov/protein/AAB20743.1\", \"Streptokinase A\", \"http://www.uniprot.org/uniprot/P10520\", \"Streptococcus pyogenes serotype M3 D58\", \"https://ontology.iedb.org/ontology/ONTIE_0000450\", \"Streptococcus pyogenes\", \"http://purl.obolibrary.org/obo/NCBITaxon_1314\"), it must be of type list, tuple or dict\n",
      "[('Epitope_ID VARCHAR(100) PRIMARY KEY', '1'), ('Epitope_IRI VARCHAR(200)', 'http://www.iedb.org/epitope/1'), ('Object_Type VARCHAR(50)', 'Linear peptide'), ('Name VARCHAR(1000)', 'AA + MCM(A1,A2)'), ('Modified_Residue VARCHAR(150)', 'A1,A2'), ('Modifications VARCHAR(100)', 'Main chain modification'), ('Starting_Position INT', '200'), ('Ending_Position INT', '201'), ('IRI VARCHAR(50)', ''), ('Synonyms VARCHAR(5000)', ''), ('Source_Molecule VARCHAR(500)', 'streptokinase, SKase'), ('Source_Molecule_IRI VARCHAR(100)', 'http://www.ncbi.nlm.nih.gov/protein/AAB20743.1'), ('Molecule_Parent VARCHAR(200)', 'Streptokinase A'), ('Molecule_Parent_IRI VARCHAR(100)', 'http://www.uniprot.org/uniprot/P10520'), ('Source_Organism VARCHAR(200)', 'Streptococcus pyogenes serotype M3 D58'), ('Source_Organism_IRI VARCHAR(200)', 'https://ontology.iedb.org/ontology/ONTIE_0000450'), ('Species VARCHAR(100)', 'Streptococcus pyogenes'), ('Species_IRI VARCHAR(100)', 'http://purl.obolibrary.org/obo/NCBITaxon_1314')]\n",
      "(0, 1)\n"
     ]
    }
   ],
   "source": [
    "# insert rows into table\n",
    "def insert_rows(db_params:str, table_name:str, columns:list, rows):\n",
    "    conn = mysql.connector.connect(**db_params)\n",
    "    cursor = conn.cursor()\n",
    "\n",
    "    n, m = 0, 0\n",
    "    col = ', '.join([i.split(' ')[0] for i in columns])\n",
    "    for row in rows:\n",
    "        try:\n",
    "            val = []\n",
    "            for a,b in zip(columns, row):\n",
    "                _a = a.split(' ')\n",
    "                if 'INT' == _a[1]:\n",
    "                    val.append(b)\n",
    "                else:\n",
    "                    val.append(f\"\\\"{b}\\\"\")\n",
    "            val = \", \".join(val)\n",
    "            sql = (f\"INSERT INTO epitope ({col}) VALUES ({val})\")\n",
    "            cursor.execute(sql, val)\n",
    "            conn.commit()\n",
    "            n += 1\n",
    "        except Exception as e:\n",
    "            print('error:', e)\n",
    "            print([(a,b) for a,b in zip(columns, row)])\n",
    "            m += 1\n",
    "            break\n",
    "    else:\n",
    "        conn.close()\n",
    "    return n, m\n",
    "    \n",
    "db_params = {\n",
    "    'host': \"localhost\",\n",
    "    'user': \"root\",\n",
    "    'passwd': \"root\",\n",
    "    'database': 'protein',\n",
    "}\n",
    "table_name = 'epitope'\n",
    "res = insert_rows(db_params, table_name, columns, rows)\n",
    "print(res)"
   ]
  },
  {
   "cell_type": "code",
   "execution_count": 104,
   "id": "e412de53-54fd-4a70-ba84-3929e1f42e98",
   "metadata": {},
   "outputs": [
    {
     "name": "stdout",
     "output_type": "stream",
     "text": [
      "17 17\n"
     ]
    }
   ],
   "source": [
    "print(len(columns), len(rows[0]))"
   ]
  },
  {
   "cell_type": "code",
   "execution_count": null,
   "id": "fe4c5796-57d7-4fa4-a382-782c8951f555",
   "metadata": {},
   "outputs": [],
   "source": []
  },
  {
   "cell_type": "code",
   "execution_count": null,
   "id": "f4b68552-c047-4ab2-a1f2-0b72a64bbdcc",
   "metadata": {},
   "outputs": [],
   "source": []
  }
 ],
 "metadata": {
  "kernelspec": {
   "display_name": "Python 3 (ipykernel)",
   "language": "python",
   "name": "python3"
  },
  "language_info": {
   "codemirror_mode": {
    "name": "ipython",
    "version": 3
   },
   "file_extension": ".py",
   "mimetype": "text/x-python",
   "name": "python",
   "nbconvert_exporter": "python",
   "pygments_lexer": "ipython3",
   "version": "3.11.9"
  }
 },
 "nbformat": 4,
 "nbformat_minor": 5
}
